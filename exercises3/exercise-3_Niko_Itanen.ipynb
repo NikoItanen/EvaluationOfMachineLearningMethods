{
 "cells": [
  {
   "cell_type": "markdown",
   "metadata": {},
   "source": [
    "# TKO_7092 Evaluation of Machine Learning Methods 2025"
   ]
  },
  {
   "cell_type": "markdown",
   "metadata": {},
   "source": [
    "---\n",
    "\n",
    "Student name: Niko Itänen\n",
    "\n",
    "Student number: 2110412\n",
    "\n",
    "Student email: nmitan@utu.fi\n",
    "\n",
    "---"
   ]
  },
  {
   "cell_type": "markdown",
   "metadata": {},
   "source": [
    "## Exercise 3\n",
    "\n",
    "Complete the tasks given to you in the letter below. In your submission, explain clearly, precisely, and comprehensively why the cross-validation described in the letter failed, what is the correct way to perform cross-validation in the given scenario, and why the correct cross-validation method will give a reliable estimate of the generalisation performance. Then implement the correct cross-validation for the scenario and report its results.\n",
    "\n",
    "Remember to follow all the general exercise guidelines that are stated in Moodle. Full points (2p) will be given for a submission that demonstrates a deep understanding of cross-validation on pair-input data and implements the requested cross-validation correctly (incl. reporting the results). Partial points (1p) will be given if there are small error(s) but the overall approach is correct. No points will be given if there are significant error(s).\n",
    "\n",
    "The deadline of this exercise is **Wednesday 19 February 2025 at 11:59 PM**. Please contact Juho Heimonen (juaheim@utu.fi) if you have any questions about this exercise.\n",
    "\n",
    "---\n"
   ]
  },
  {
   "cell_type": "markdown",
   "metadata": {},
   "source": [
    "Dear Data Scientist,\n",
    "\n",
    "I have a long-term research project regarding a specific set of proteins. I am attempting to discover small organic compounds that can bind strongly to these proteins and thus act as drugs. I have already made laboratory experiments to measure the affinities between some proteins and drug molecules.\n",
    "\n",
    "My colleague is working on another set of proteins, and the objectives of his project are similar to mine. He has recently discovered thousands of new potential drug molecules. He asked me if I could find the pairs that have the strongest affinities among his proteins and drug molecules. Obviously I do not have the resources to measure all the possible pairs in my laboratory, so I need to prioritise. I decided to do this with the help of machine learning, but I have encountered a problem.\n",
    "\n",
    "Here is what I have done so far: First I trained a K-nearest neighbours regressor with the parameter value K=10 using all the 400 measurements I had already made in the laboratory with my proteins and drug molecules. They comprise of 77 target proteins and 59 drug molecules. Then I performed a leave-one-out cross-validation with this same data to estimate the generalisation performance of the model. I used C-index and got a stellar score above 90%. Finally I used the model to predict the affinities of my colleague's proteins and drug molecules. The problem is: when I selected the highest predicted affinities and tried to verify them in the lab, I found that many of them are much lower in reality. My model clearly does not work despite the high cross-validation score.\n",
    "\n",
    "Please explain why my estimation failed and how leave-one-out cross-validation should be performed to get a reliable estimate. Also, implement the correct leave-one-out cross-validation and report its results. I need to know whether it would be a waste of my resources if I were to use my model any further.\n",
    "\n",
    "The data I used to create my model is available in the files `input.data`, `output.data` and `pairs.data` for you to use. The first file contains the features of the pairs, whereas the second contains their affinities. The third file contains the identifiers of the drug and target molecules of which the pairs are composed. The files are paired, i.e. the i<sup>*th*</sup> row in each file is about the same pair.\n",
    "\n",
    "Looking forward to hearing from you soon.\n",
    "\n",
    "Yours sincerely, \\\n",
    "Bio Scientist\n",
    "\n",
    "---"
   ]
  },
  {
   "cell_type": "markdown",
   "metadata": {},
   "source": [
    "#### Answer the questions about cross-validation on pair-input data"
   ]
  },
  {
   "cell_type": "markdown",
   "metadata": {},
   "source": [
    "Starting points on where the Bio Scientist have started to work on this task are actually reasonable, but the problem lies in the perfomance estimation. Bio Scientist have used the leave-one-out cross-validation straight without accounting the pairwise depencencies. The issue here arises because we have multiple data points which are sharing the same protein or drug, and eventually leading to information leakage. While we performing basic leave-one-out cross-validation, removing only one pair at time does not prevent the model from seeing highlt similar data points druing training, meaning that we are getting overly optimistic peformance estimations that does not reflect how the model really perform with unseen data.\n",
    "\n",
    "To obtain a more reliable perfomance estimation, we want to adjust the validation method by ensuring that all our data pairs whwich are containing the same protein or drug as the test pair are ignored from training. This way, our model is tested on genuinely novel protein-drug combination rather than those it has effectively seeen before.\n",
    "\n",
    "In short, the current model overfits by learning patterns too well from the training data, decreasing its ability to generalize an unseen data. [1], [2]\n",
    "\n",
    "Let's take a look how we can fix this."
   ]
  },
  {
   "cell_type": "markdown",
   "metadata": {},
   "source": [
    "#### Import libraries"
   ]
  },
  {
   "cell_type": "code",
   "execution_count": null,
   "metadata": {},
   "outputs": [],
   "source": [
    "# Import the libraries you need.\n",
    "import pandas as pd\n",
    "import matplotlib.pyplot as plt\n",
    "from sklearn.neighbors import KNeighborsRegressor"
   ]
  },
  {
   "cell_type": "markdown",
   "metadata": {},
   "source": [
    "#### Load datasets"
   ]
  },
  {
   "cell_type": "code",
   "execution_count": 67,
   "metadata": {},
   "outputs": [
    {
     "name": "stdout",
     "output_type": "stream",
     "text": [
      "(400, 67)\n",
      "(400, 1)\n",
      "(400, 2)\n"
     ]
    }
   ],
   "source": [
    "# Input data\n",
    "inputData = pd.read_csv('data/input.data', sep=' ', header=None)\n",
    "\n",
    "# Output data\n",
    "outputData = pd.read_csv('data/output.data', header=None)\n",
    "\n",
    "# Pairs data\n",
    "pairsData = pd.read_csv('data/pairs.data', sep=' ', header=None).to_numpy()\n",
    "\n",
    "# Print the shapes of the data\n",
    "print(inputData.shape)\n",
    "print(outputData.shape)\n",
    "print(pairsData.shape)"
   ]
  },
  {
   "cell_type": "markdown",
   "metadata": {},
   "source": [
    "#### Write utility functions"
   ]
  },
  {
   "cell_type": "code",
   "execution_count": null,
   "metadata": {},
   "outputs": [],
   "source": [
    "# Write the utility functions you need in your analysis.\n",
    "\n",
    "# Function to perform pairwise leave-one-out cross-validation\n",
    "def pairwise_loocv(input, output, pairs, k):\n",
    "    # We get the number of samples\n",
    "    n_samples = input.shape[0]\n",
    "    \n",
    "    # We define the lists where we store the true and predicted values\n",
    "    test_list = []\n",
    "    pred_list = []\n",
    "\n",
    "    # Iterate prediction calculation for all the samples\n",
    "    for i in range (n_samples):\n",
    "        # We define the list where we store all the indices for the trainigg data\n",
    "        train_indices = list(range(n_samples))\n",
    "\n",
    "        # Now we find all the dependent pairs for the current test sample\n",
    "        dependent_pairs = find_dependent_pairs(pairs, i)\n",
    "\n",
    "        # We remove these pairs from the training data which has dependency with the test sample\n",
    "        for idx in dependent_pairs:\n",
    "            train_indices.remove(idx)\n",
    "\n",
    "        # Form the training and test data for the current iteration\n",
    "        # Because this is leave-one-out cross-validation, we only have one test sample\n",
    "        # and the rest of the samples are used for training\n",
    "        X_train, X_test = input.iloc[train_indices], input.iloc[[i]]\n",
    "        Y_train, Y_test = output.iloc[train_indices], output.iloc[i]\n",
    "\n",
    "        # Now we train the model and get the predictions for the test sample\n",
    "        Y_pred = train_knn_model(X_train, Y_train, X_test, k)\n",
    "\n",
    "        # Append the true and predicted values to the lists\n",
    "        pred_list.append(Y_pred[0])\n",
    "        test_list.append(Y_test[0])\n",
    "        \n",
    "    # Calculate the C-Index and return it\n",
    "    return c_index(test_list, pred_list)\n",
    "\n",
    "\n",
    "# Lets do the function for finding the dependent pairs from the pairs data\n",
    "# Here we want to take the pairs data and the index of the datapoint we are interested in\n",
    "def find_dependent_pairs(pairs, datapoint_id):\n",
    "    # We create a list where depending pairs will be stored\n",
    "    dependent_pairs = []\n",
    "\n",
    "    # Define the current pair we are interedted in\n",
    "    current_pair = pairs[datapoint_id]\n",
    "\n",
    "    # Iterate the depencency check for all the pairs\n",
    "    # If either of the proteins or drugs are same with the current pair, \n",
    "    # we add it to the dependent pairs list.\n",
    "    for idx, pair in enumerate(pairs):\n",
    "        if idx not in dependent_pairs and (current_pair[0] == pair[0] or current_pair[1] == pair[1]):\n",
    "            dependent_pairs.append(idx)\n",
    "\n",
    "    return dependent_pairs\n",
    "\n",
    "# Function to calculate the C-Index [3]\n",
    "def c_index(y_true, y_pred):\n",
    "    # Define the variable for total combarable pairs\n",
    "    n = 0\n",
    "    # We define h_sum which is the sum of the number of concordant pairs and the number of ties.\n",
    "    h_sum = 0\n",
    "    # Now we iterate over the pairs of the true values and the predicted values\n",
    "    for i in range(0, len(y_true)):\n",
    "        t = y_true[i]\n",
    "        p = y_pred[i]\n",
    "        for j in range(i+1, len(y_true)):\n",
    "            nt = y_true[j]\n",
    "            np = y_pred[j]\n",
    "            # If the true values are different, we increase the numbre of pairs\n",
    "            if (t != nt):\n",
    "                n += 1\n",
    "                # Now we check if the prediction is correct or not\n",
    "                if (p < np and t < nt) or (p > np and t > nt):\n",
    "                    h_sum += 1\n",
    "                elif p == np:\n",
    "                    h_sum += 0.5\n",
    "        # Return the C-index at the end of iteration\n",
    "        return h_sum/n\n",
    "\n",
    "\n",
    "# Function to train kNN model\n",
    "def train_knn_model(X_train, Y_train, X_test, k):\n",
    "    # We define the model\n",
    "    model = KNeighborsRegressor(n_neighbors=k)\n",
    "\n",
    "    # Fit the model\n",
    "    model.fit(X_train, Y_train)\n",
    "\n",
    "    # Do the predictions\n",
    "    predictions = model.predict(X_test)\n",
    "\n",
    "    return predictions\n"
   ]
  },
  {
   "cell_type": "markdown",
   "metadata": {},
   "source": [
    "#### Implement and run cross-validation"
   ]
  },
  {
   "cell_type": "code",
   "execution_count": 69,
   "metadata": {},
   "outputs": [
    {
     "name": "stdout",
     "output_type": "stream",
     "text": [
      "C-Index score: 0.581453634085213\n"
     ]
    }
   ],
   "source": [
    "# Now lets run the leave-one-out cross-validation with our data\n",
    "c_index_score = pairwise_loocv(inputData, outputData, pairsData, 10)\n",
    "\n",
    "# Print the C-Index score\n",
    "print(f'C-Index score: {c_index_score}')"
   ]
  },
  {
   "cell_type": "markdown",
   "metadata": {},
   "source": [
    "### Analysis and Visualization\n",
    "\n",
    "As we can see from the C-Index score with K-value of 10, the peformance of model is just a little bit better than random guessing. Reasons for this might be that there is small amount of data while the model should predict values that are in range between 0-1. The performance of the model can be enhanced by tuning its hyperparameters and collecting more data. I noticed that Bio Scientist's set K-value of 10 sounds pretty high. Let's find out if we can find better performance by choosing better K-value.\n",
    "\n",
    "Let's do couple of iterations for the model with different K-values."
   ]
  },
  {
   "cell_type": "code",
   "execution_count": 70,
   "metadata": {},
   "outputs": [
    {
     "name": "stdout",
     "output_type": "stream",
     "text": [
      "k=1 C-Index score: 0.7669172932330827\n",
      "k=3 C-Index score: 0.7769423558897243\n",
      "k=5 C-Index score: 0.6842105263157895\n",
      "k=7 C-Index score: 0.6215538847117794\n",
      "k=10 C-Index score: 0.581453634085213\n",
      "k=15 C-Index score: 0.5864661654135338\n",
      "k=20 C-Index score: 0.5864661654135338\n",
      "k=25 C-Index score: 0.5889724310776943\n",
      "k=30 C-Index score: 0.568922305764411\n"
     ]
    },
    {
     "data": {
      "image/png": "[encoded data removed]",
      "text/plain": [
       "<Figure size 640x480 with 1 Axes>"
      ]
     },
     "metadata": {},
     "output_type": "display_data"
    }
   ],
   "source": [
    "# Find the best k value for the kNN model\n",
    "k_values = [1, 3, 5, 7, 10, 15, 20, 25, 30]\n",
    "c_index_scores = []\n",
    "\n",
    "for k in k_values:\n",
    "    c_index_score = pairwise_loocv(inputData, outputData, pairsData, k)\n",
    "    c_index_scores.append(c_index_score)\n",
    "    print(f'k={k} C-Index score: {c_index_score}')\n",
    "\n",
    "# Plot the C-Index scores for different k values\n",
    "plt.plot(k_values, c_index_scores)\n",
    "plt.xlabel('k')\n",
    "plt.ylabel('C-Index')\n",
    "plt.title('C-Index scores for different k values')\n",
    "plt.show()"
   ]
  },
  {
   "cell_type": "markdown",
   "metadata": {},
   "source": [
    "Now we have evaluated some different k values for model performance. As we can see from the plot, larger values of k tend to degrade our model performance.\n",
    "\n",
    "The best performance is not 10 but actually 3, which gave us C-index score of 0.777, which is the highest among the tested values. To optimize predictive perforamnce of the model, a lower k-values is preferable, as increasing k beyond 3 results in a significant drop in the C-index."
   ]
  },
  {
   "cell_type": "markdown",
   "metadata": {},
   "source": [
    "### In Summary\n",
    "\n",
    "Now we have fixed the problem where performance validation gave an overly optimistic accuracy estimation. Applying all pairwise dependent data points is a really important task, because without it we get overly optimistic results when training the model with them. In reality, the model will not perform as well in real-world applications because it cannot generalize to a single value without dependent pairs at all. We want to make sure that the predictions are actually calculated by using the independent data points for the unseen data.\n",
    "\n",
    "Although our cross-validation has now been fixed, improvements can still be made. Our C-index is now around 0.581 with a K-value of 10, suggesting that our model performs only slightly better than guessing its values at random. To obtain valuable information, we want to achieve a much higher C-index. This can be corrected by using a more optimal hyperparameter for the k-NN model, such as 10, as we calculated. We also need to use much more data, as we currently have a very limited amount of data available, which can increase the accuracy of the model. Model selection could also be a way to improve these results. For example, using alternative regression models (such as Random Forest or SVR) could improve the prediction accuracy compared to k-NN."
   ]
  },
  {
   "cell_type": "markdown",
   "metadata": {},
   "source": [
    "### References:\n",
    "\n",
    "[1] Lecture 3 Slides, MOOC 3: Problem-Dependent Resampling Techniques\n",
    "\n",
    "[2] Tapio Pahikkala, Antti Airola, Sami Pietilä, Sushil Shakyawar, Agnieszka Szwajda, Jing Tang, Tero Aittokallio, Toward more realistic drug–target interaction predictions, Briefings in Bioinformatics, Volume 16, Issue 2, March 2015, Pages 325–337, https://doi.org/10.1093/bib/bbu010\n",
    "\n",
    "[3] Schmid, M. et al. (2016). On the use of Harrell’s C for clinical risk prediction via random survival forests. (https://doi.org/10.1016/j.eswa.2016.07.018)"
   ]
  }
 ],
 "metadata": {
  "kernelspec": {
   "display_name": "Python 3",
   "language": "python",
   "name": "python3"
  },
  "language_info": {
   "codemirror_mode": {
    "name": "ipython",
    "version": 3
   },
   "file_extension": ".py",
   "mimetype": "text/x-python",
   "name": "python",
   "nbconvert_exporter": "python",
   "pygments_lexer": "ipython3",
   "version": "3.12.6"
  }
 },
 "nbformat": 4,
 "nbformat_minor": 4
}
