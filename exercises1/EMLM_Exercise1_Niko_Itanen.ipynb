{
 "cells": [
  {
   "cell_type": "markdown",
   "metadata": {},
   "source": [
    "Niko Itänen <br>\n",
    "Student number: 2110412 <br>\n",
    "January, 29, 2025  <br>"
   ]
  },
  {
   "cell_type": "markdown",
   "metadata": {},
   "source": [
    "# Exercise 1 | TKO_7092 Evaluation of Machine Learning Methods 2025"
   ]
  },
  {
   "cell_type": "markdown",
   "metadata": {},
   "source": [
    "##### Prediction of the metal ion content from multi-parameter data\n",
    "<b> Use K-Nearest Neighbor Regression with euclidean distance to predict total metal concentration (c_total), concentration of Cadmium (Cd) and concentration of Lead (Pb), using number of neighbors k = 1, 3, 5, 7.</b>\n",
    "\n",
    "    - You may use Nearest Neighbor Regression from https://scikit-learn.org/stable/modules/neighbors.html   \n",
    "    - Implement Leave-One-Out cross-validation and calculate the C-index for each output (c_total, Cd, Pb). \n",
    "    - Implement Leave-Replicas-Out cross-validation and calculate the C-index for each output (c_total, Cd, Pb).\n",
    "    - Return your solution as a Jupyter Notebook .ipynb notebook and as a PDF-file made from it. Please, add your full name to the file name.\n",
    "    - The exercise will be graded by a maximum of 2 points.\n",
    "    - Submit to moodle your solution on ** Wednesday 5 of February ** at the latest.\n",
    "  \n",
    "<b>Please be aware that you are required to submit your individual solution.<br> \n",
    "Submissions with identical or similar code will result in a failure for the exercise.</b>"
   ]
  },
  {
   "cell_type": "markdown",
   "metadata": {},
   "source": [
    "## Import libraries"
   ]
  },
  {
   "cell_type": "code",
   "execution_count": 201,
   "metadata": {
    "tags": []
   },
   "outputs": [],
   "source": [
    "# In this cell import all libraries you need. For example: \n",
    "import numpy as np\n",
    "import pandas as pd\n",
    "from scipy.stats import somersd\n",
    "from sklearn.neighbors import KNeighborsRegressor\n",
    "from sklearn.model_selection import LeaveOneOut\n",
    "from sklearn.model_selection import KFold\n",
    "import matplotlib.pyplot as plt"
   ]
  },
  {
   "cell_type": "markdown",
   "metadata": {},
   "source": [
    "## Read and visualize the dataset"
   ]
  },
  {
   "cell_type": "markdown",
   "metadata": {
    "jp-MarkdownHeadingCollapsed": true
   },
   "source": [
    "<p> <b>Note:</b> This dataset differs slightly from the one used in the video lectures. <br>\n",
    "<b>In this dataset, some mixtures have 3 replicas, while others have 4 replicas. </b> </p> \n",
    "\n",
    "In the following cell: \n",
    "- Read the file water_data.csv\n",
    "- Print the dimesions of the dataset (i.e. number of rows and columns) and display the first 5 rows.\n",
    "- Identify the inputs and the outputs columns.\n",
    "- Provide the number of mixtures with 3 replicas and 4 replicas, respectively."
   ]
  },
  {
   "cell_type": "code",
   "execution_count": 202,
   "metadata": {
    "tags": []
   },
   "outputs": [
    {
     "name": "stdout",
     "output_type": "stream",
     "text": [
      "Dimensions: 6\n",
      "   c_total   Cd    Pb      Mod1      Mod2      Mod3\n",
      "0      0.0  0.0   0.0 -0.999216 -0.714208 -0.414911\n",
      "1      0.0  0.0   0.0 -0.990800 -0.714373 -0.238335\n",
      "2      0.0  0.0   0.0 -0.990539 -0.714125  0.020788\n",
      "3     14.0  0.0  14.0 -1.001247 -0.713546  0.945465\n",
      "4     14.0  0.0  14.0 -1.013727 -0.714125  0.569631\n"
     ]
    }
   ],
   "source": [
    "# Read the data\n",
    "water = pd.read_csv(\"data/water_data.csv\")\n",
    "\n",
    "# Print the dimensions\n",
    "print(\"Dimensions:\", water.shape[1])\n",
    "\n",
    "# Print the first 5 rows\n",
    "print(water.head())\n",
    "\n",
    "# Define the input features and the target feature\n",
    "# c_total = total concentration of metals\n",
    "# Cd = cadmium concentration\n",
    "# Pb = lead concentration\n",
    "input_features = ['Mod1', 'Mod2', 'Mod3'] # Mod1, Mod2, Mod3 are the features we will use as input for the model\n",
    "\n",
    "target_feature = ['c_total', 'Cd', 'Pb'] # c_total, Cd, Pd are the target features we will predict\n",
    "\n",
    "# Create a new dataframe for the input features and target feature\n",
    "inputDf = water[input_features]\n",
    "targetDf = water[target_feature]"
   ]
  },
  {
   "cell_type": "markdown",
   "metadata": {},
   "source": [
    "Now we have read the data, printed the data dimensions and the first five rows. We have also defined both the input features and the target features as their own dataframes.\n",
    "\n",
    "We now move on to defining the number of mixtures."
   ]
  },
  {
   "cell_type": "code",
   "execution_count": 203,
   "metadata": {},
   "outputs": [
    {
     "name": "stdout",
     "output_type": "stream",
     "text": [
      "The number of mixtures that have exactly 3 replicas: 43\n",
      "The number of mixtures that have exactly 4 replicas: 24\n"
     ]
    }
   ],
   "source": [
    "# At first we want to calculate the count of mixtures for each row of input features\n",
    "water['mixture_id'] = water[target_feature].apply(lambda x: ''.join(x.astype(str)), axis=1) # New column that contains the mixture id as string (in form of \"c_totalCdPb\")\n",
    "mixture_count = water['mixture_id'].value_counts() # Count the number of how many times each replica appears\n",
    "\n",
    "# Now we want to calculate the count of how many time each mixture have exactly the same 3 and 4 replicas.\n",
    "sum_of_3_replicas = (mixture_count == 3).sum()\n",
    "sum_of_4_replicas = (mixture_count == 4).sum()\n",
    "\n",
    "# Print the results\n",
    "print(\"The number of mixtures that have exactly 3 replicas:\", sum_of_3_replicas)\n",
    "print(\"The number of mixtures that have exactly 4 replicas:\", sum_of_4_replicas)"
   ]
  },
  {
   "cell_type": "markdown",
   "metadata": {},
   "source": [
    "As we can see, there are a total of 43 mixtures with 3 replicas and 24 mixtures with 4 replicas. The purpose of these replications is to increase robustness, avoid overfitting the model and validate the predictions in a realistic way [1]."
   ]
  },
  {
   "cell_type": "markdown",
   "metadata": {},
   "source": [
    "## C-index code "
   ]
  },
  {
   "cell_type": "code",
   "execution_count": 204,
   "metadata": {},
   "outputs": [],
   "source": [
    "# In this cell is the fuction that computes the c-index value based on Somers'D statistic.\n",
    "# Use this fuction as the evaluation metric in the Leave-One-Out (LOOCV) and Leave-Replicas-Out (LROCV) cross-validation methods.\n",
    "\n",
    "def cindex(true, pred):\n",
    "    s_d = somersd(true, y=pred, alternative='two-sided')\n",
    "    c_index = (s_d.statistic + 1.0)/2.0\n",
    "    return c_index"
   ]
  },
  {
   "cell_type": "markdown",
   "metadata": {},
   "source": [
    "## Functions"
   ]
  },
  {
   "cell_type": "code",
   "execution_count": 205,
   "metadata": {},
   "outputs": [],
   "source": [
    "# Lets create a k-nn regression here\n",
    "# X_train: our input features of the training set\n",
    "# Y_train: target feature of the training set\n",
    "# X_test: input features of the test set\n",
    "# k: number of neighbors\n",
    "\n",
    "def knn_regression(X_train, Y_train, X_test, k=3):\n",
    "    model = KNeighborsRegressor(n_neighbors=k, metric='euclidean') # We want to use the euclidean distance as the metric\n",
    "    model.fit(X_train, Y_train)\n",
    "    Y_pred = model.predict(X_test)\n",
    "    Y_pred = pd.DataFrame(Y_pred, columns=Y_train.columns)\n",
    "    return Y_pred\n",
    "\n",
    "\n",
    "# Here we implement the leave-one-out cross-validation function\n",
    "# X: input data\n",
    "# Y: target data\n",
    "# target_feature: the target feature we want to predict\n",
    "# k_values: list of k values to try multiple k values\n",
    "def leave_one_out_cv(X, Y, target_feature, k_values=[1, 3, 5, 7]):\n",
    "    Y = pd.DataFrame(Y, columns=[target_feature])\n",
    "    # Define leave-one-out cross-validation\n",
    "    loo = LeaveOneOut()\n",
    "    c_values = []\n",
    "\n",
    "    for k in k_values:\n",
    "        test_list = [] # List to store the true target feature values after each iteration\n",
    "        pred_list = [] # Same for the predicted target feature values\n",
    "\n",
    "        # Iterate the training and test sets for each fold\n",
    "        for train_index, test_index in loo.split(X):\n",
    "            # Here we want to split the data into training and test sets\n",
    "            X_train, X_test = X.iloc[train_index], X.iloc[test_index]\n",
    "            Y_train, Y_test = Y.iloc[train_index], Y.iloc[test_index]\n",
    "\n",
    "            # Now apply the earlier made knn_regression function\n",
    "            Y_pred = knn_regression(X_train, Y_train, X_test, k)\n",
    "\n",
    "            # Append the true and predicted target feature values to the lists.\n",
    "            test_list.append(Y_test.values[0][0])\n",
    "            pred_list.append(Y_pred.values[0][0])\n",
    "\n",
    "        # Calculate the C-index value with function created earlier\n",
    "        c_index_value = cindex(test_list, pred_list)\n",
    "        # Append the C-index value to the list\n",
    "        c_values.append(c_index_value)\n",
    "\n",
    "    return c_values\n",
    "\n",
    "# Here we implement the leave-replicas-out cross-validation function\n",
    "def leave_replicas_out_cv2(X, Y, target_feature, k_values=[1, 3, 5, 7]):\n",
    "    # Find all replicas from the data\n",
    "    unique_replicas = water['mixture_id'].unique()\n",
    "    # Define the amount of splits, one for each unique replica\n",
    "    kf = KFold(n_splits=len(unique_replicas))\n",
    "    c_values = []\n",
    "\n",
    "    for k in k_values:\n",
    "        # Create lists again to store the true and predicted target feature values\n",
    "        test_list = []\n",
    "        pred_list = []\n",
    "\n",
    "        for train_index, test_index in kf.split(unique_replicas):\n",
    "        # Iterate the training and test set for each fold\n",
    "            # We want to define training and test index by using the unique replica ids\n",
    "            train_index = water[water['mixture_id'].isin(unique_replicas[train_index])].index\n",
    "            test_index = water[water['mixture_id'].isin(unique_replicas[test_index])].index\n",
    "\n",
    "            # Split the data into training and test sets\n",
    "            X_train, X_test = X.loc[train_index], X.loc[test_index]\n",
    "            Y_train, Y_test = Y.loc[train_index], Y.loc[test_index]\n",
    "\n",
    "            # Now apply the knn_regression function\n",
    "            Y_pred = knn_regression(X_train, Y_train, X_test, k)\n",
    "\n",
    "            # Append the true and predicted target feature values to the lists\n",
    "            test_list.append(Y_test.values[0][0])\n",
    "            pred_list.append(Y_pred.values[0][0])\n",
    "\n",
    "        # Calculate the C-index value\n",
    "        c_index_value = cindex(test_list, pred_list)\n",
    "        # Append these calculated values to the list\n",
    "        c_values.append(c_index_value)\n",
    "    return c_values"
   ]
  },
  {
   "cell_type": "markdown",
   "metadata": {},
   "source": [
    "## Results for Leave-One-Out cross-validation"
   ]
  },
  {
   "cell_type": "code",
   "execution_count": 206,
   "metadata": {},
   "outputs": [
    {
     "name": "stdout",
     "output_type": "stream",
     "text": [
      "Calculated target feature: c_total\n",
      "LOOCV scores: [0.9082833811137173, 0.9141907740422205, 0.8941012944140387, 0.8737294761532447] \n",
      "\n",
      "Calculated target feature: Cd\n",
      "LOOCV scores: [0.921869127656909, 0.8995907629348143, 0.8619660082682591, 0.8141520858562659] \n",
      "\n",
      "Calculated target feature: Pb\n",
      "LOOCV scores: [0.8805487117384223, 0.8744519146448406, 0.8542614941328768, 0.8355326345680043] \n",
      "\n"
     ]
    }
   ],
   "source": [
    "# Here run your script for Leave-One-Out cross-validation and print the corresponding results.\n",
    "\n",
    "# Here we create a dictionary to store the results\n",
    "results_LOOCV = {}\n",
    "\n",
    "# Run the LOOCV for each target features\n",
    "for target in target_feature:\n",
    "    LOOCV_scores = leave_one_out_cv(inputDf, targetDf, target_feature=target)\n",
    "    # Save the computed result to the dictionary\n",
    "    results_LOOCV[target] = LOOCV_scores\n",
    "\n",
    "# Let's print the results\n",
    "for target in target_feature:\n",
    "    print(\"Calculated target feature:\", target)\n",
    "    print(\"LOOCV scores:\", results_LOOCV[target], \"\\n\")"
   ]
  },
  {
   "cell_type": "markdown",
   "metadata": {},
   "source": [
    "## Results for Leave-Replicas-Out cross-validation"
   ]
  },
  {
   "cell_type": "code",
   "execution_count": 207,
   "metadata": {},
   "outputs": [
    {
     "name": "stdout",
     "output_type": "stream",
     "text": [
      "Calculated target feature: c_total\n",
      "LOOCV scores: [0.8250244379276637, 0.8338220918866079, 0.8242913000977516, 0.8225806451612903] \n",
      "\n",
      "Calculated target feature: Cd\n",
      "LOOCV scores: [0.8250244379276637, 0.8338220918866079, 0.8242913000977516, 0.8225806451612903] \n",
      "\n",
      "Calculated target feature: Pb\n",
      "LOOCV scores: [0.8250244379276637, 0.8338220918866079, 0.8242913000977516, 0.8225806451612903] \n",
      "\n"
     ]
    }
   ],
   "source": [
    "# Run Leave-Replicas-Out cross-validation for each target feature\n",
    "# Dictionary for result storing\n",
    "results_LROCV = {}\n",
    "\n",
    "# Run the LROCV for each target feature\n",
    "for target in target_feature:\n",
    "    LROCV_scores = leave_replicas_out_cv2(inputDf, targetDf, target_feature=[target])\n",
    "    # Save the result to the dictionary\n",
    "    results_LROCV[target] = LROCV_scores\n",
    "\n",
    "# Print the results\n",
    "for target in target_feature:\n",
    "    print(\"Calculated target feature:\", target)\n",
    "    print(\"LOOCV scores:\", results_LROCV[target], \"\\n\")"
   ]
  },
  {
   "cell_type": "markdown",
   "metadata": {},
   "source": [
    "## Plot Leave-One-Out and Leave-Replicas-Out Results"
   ]
  },
  {
   "cell_type": "markdown",
   "metadata": {},
   "source": [
    "Note: You may plot the results as they were presented in the video lecture (refer to MOOC2-Module 2 .pptx slides)."
   ]
  },
  {
   "cell_type": "code",
   "execution_count": null,
   "metadata": {},
   "outputs": [
    {
     "data": {
      "image/png": "[encoded data removed]",
      "text/plain": [
       "<Figure size 1200x400 with 3 Axes>"
      ]
     },
     "metadata": {},
     "output_type": "display_data"
    }
   ],
   "source": [
    "# Let's visualize the results we have calculated\n",
    "plt.figure(figsize=(12, 4))\n",
    "# Loop each target feature for one subplot\n",
    "for i, target in enumerate(target_feature):\n",
    "    plt.subplot(1, 3, i+1)\n",
    "    \n",
    "    # Plot the Leave-One-Out cross-validation results\n",
    "    plt.plot([1, 3, 5, 7], results_LOOCV[target], label='LOOCV', marker='o')\n",
    "\n",
    "    # Plot the Leave-Replicas-Out cross-validation results\n",
    "    plt.plot([1, 3, 5, 7], results_LROCV[target], label='LROCV', marker='o')\n",
    "\n",
    "    # Add labels and title\n",
    "    plt.xlabel('K value')\n",
    "    plt.ylabel('C-value')\n",
    "    plt.title(target_feature[i])\n",
    "    plt.legend()\n",
    "\n",
    "plt.tight_layout()\n",
    "plt.show()"
   ]
  },
  {
   "cell_type": "markdown",
   "metadata": {},
   "source": [
    "## Interpretation of results\n",
    "#### Answer the following questions based on the results obtained\n",
    "1. Which cross-validation approach produced more optimistic results, and why?\n",
    "2. Which cross-validation method provides a better estimate of the model's performance on unseen mixtures? Explain your answer."
   ]
  },
  {
   "cell_type": "markdown",
   "metadata": {},
   "source": [
    "#### Answers:\n",
    "\n",
    "1. We obtained more optimistic results with Leave-One-Out Cross-Validation (LOOCV) than with Leave-Replicas-Out Cross-Validation (LROCV). The C-values for LOOCV were somewhere near 0.9, which decreases quite rapidly as the K-value increases. In contrast, the C-value of LROCV was much more stable and remained consistently close to 0.8. Although LOOCV has a better C-value, this does not mean that it is more accurate than LROCV in real-world case and with unseen data.\n",
    "\n",
    "2. Although LOOCV has a higher value, it is likely overfitting because there are still replicates in the training set. The model predicts these values well but is unlikely to perform as well with unseen data. Although the C-value of LROCV is lower, its accuracy may actually be higher because it is not as biased as LOOCV, since all replicates are observed here during training of the data. If these replicas are processed, it does not learn these replicas and gets more accuracy with the unseen data."
   ]
  },
  {
   "cell_type": "markdown",
   "metadata": {},
   "source": [
    "# References:\n",
    "\n",
    "[1] https://doc.perclass.com/perClass_Mira/Cross-validationoverreplicas.html"
   ]
  }
 ],
 "metadata": {
  "kernelspec": {
   "display_name": "Python 3 (ipykernel)",
   "language": "python",
   "name": "python3"
  },
  "language_info": {
   "codemirror_mode": {
    "name": "ipython",
    "version": 3
   },
   "file_extension": ".py",
   "mimetype": "text/x-python",
   "name": "python",
   "nbconvert_exporter": "python",
   "pygments_lexer": "ipython3",
   "version": "3.12.6"
  },
  "toc": {
   "base_numbering": 1,
   "nav_menu": {},
   "number_sections": false,
   "sideBar": true,
   "skip_h1_title": false,
   "title_cell": "Table of Contents",
   "title_sidebar": "Contents",
   "toc_cell": false,
   "toc_position": {},
   "toc_section_display": true,
   "toc_window_display": true
  },
  "varInspector": {
   "cols": {
    "lenName": 16,
    "lenType": 16,
    "lenVar": 40
   },
   "kernels_config": {
    "python": {
     "delete_cmd_postfix": "",
     "delete_cmd_prefix": "del ",
     "library": "var_list.py",
     "varRefreshCmd": "print(var_dic_list())"
    },
    "r": {
     "delete_cmd_postfix": ") ",
     "delete_cmd_prefix": "rm(",
     "library": "var_list.r",
     "varRefreshCmd": "cat(var_dic_list()) "
    }
   },
   "types_to_exclude": [
    "module",
    "function",
    "builtin_function_or_method",
    "instance",
    "_Feature"
   ],
   "window_display": false
  },
  "widgets": {
   "application/vnd.jupyter.widget-state+json": {
    "state": {},
    "version_major": 2,
    "version_minor": 0
   }
  }
 },
 "nbformat": 4,
 "nbformat_minor": 4
}
