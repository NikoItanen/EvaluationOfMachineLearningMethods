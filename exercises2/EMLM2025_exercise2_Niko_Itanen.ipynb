{
 "cells": [
  {
   "cell_type": "markdown",
   "metadata": {},
   "source": [
    "# Exercise 2 | TKO_7092 Evaluation of Machine Learning Methods 2025\n",
    "## deadline: 12.2.2025 - 23:59\n",
    "\n",
    "Regarding any questions about this exercise, please contact course assistant Jonne Pohjankukka (jjepoh@utu.fi)\n",
    "\n",
    "********************************************\n",
    "\n",
    "Student name: Niko Itänen\n",
    "\n",
    "Student number: 2110412\n",
    "\n",
    "Student email: nmitan@utu.fi\n",
    "\n",
    "********************************************"
   ]
  },
  {
   "cell_type": "markdown",
   "metadata": {},
   "source": [
    "## Water permeability prediction in forestry <br>\n",
    "\n",
    "In this task, the client wants you to estimate the spatial prediction performance of K-nearest neighbor regression model with K=7 (7NN), using spatial leave-one-out cross-validation (i.e. SKCV, with number of folds == number of data points). The client wants you to use the C-index as the performance measure.  \n",
    "\n",
    "In other words, the client wants you to answer the question: \"What happens to the prediction performance of water permeability using 7-nearest neighbor regression model, when the geographical distance between known data and unknown data increases?\".\n",
    "\n",
    "In this task, you have three data files available (with 1691 data points): \n",
    "\n",
    "- input.csv, contains the 75 predictor features. \n",
    "- output.csv, contains the water permebility values. \n",
    "- coordinates.csv, contains the corresponding geographical coordinate locations of the data points. The unit of the coordinates is metre, and you can use Euclidean distance to calculate distances between the coordinate points. \n",
    "\n",
    "Implement the following tasks to complete this exercise:\n",
    "\n",
    "********************************************\n",
    "\n",
    "#### 1. Z-score standardize the predictor features (input.csv). \n",
    "\n",
    "#### 2. Perform spatial leave-one-out cross-validation with 7NN model for the provided data set (refer to the lectures 3.1.3 and 3.1.4 in 'Evaluating spatial models with spatial cross-validation' for help). Estimate the water permeability prediction performance (using 7NN model and C-index) with the following distance parameter values: d = 0, 20, 40, ..., 300 (that is, 20 meter intervals from 0m to 300m). \n",
    "\n",
    "#### 3. When you have calculated the C-index performance measure for each value of d, visualize the results with the C-index (y-axis) as a function of d (x-axis).\n",
    "\n",
    "********************************************\n",
    "\n",
    "Your .ipynb-file must include the following: \n",
    "\n",
    "- Your own implementation of the spatial leave-one-out cross-validation for the current task. You can use third-party libraries (e.g. Scikit-learn) if you want for implementing e.g. the 7-nearest neighbor. Also, try to follow good programming practices and add comments to relevant parts of your code explaining what you are doing and why.\n",
    "\n",
    "\n",
    "- Plot of the graph C-index vs. distance parameter value. \n",
    "\n",
    "\n",
    "<br><br><br>\n",
    "-- START IMPLEMENTING YOUR EXERCISE AFTER THIS LINE --\n",
    "<br><br><br>"
   ]
  },
  {
   "cell_type": "markdown",
   "metadata": {},
   "source": [
    "### Import necessary libraries"
   ]
  },
  {
   "cell_type": "code",
   "execution_count": 17,
   "metadata": {},
   "outputs": [],
   "source": [
    "# Import all the needed libraries\n",
    "import numpy as np\n",
    "import matplotlib.pyplot as plt\n",
    "import pandas as pd\n",
    "from sklearn.model_selection import KFold\n",
    "from sklearn.neighbors import KNeighborsRegressor\n",
    "from sklearn.preprocessing import StandardScaler\n",
    "from sklearn.decomposition import PCA\n"
   ]
  },
  {
   "cell_type": "markdown",
   "metadata": {},
   "source": [
    "### Read in the datasets"
   ]
  },
  {
   "cell_type": "code",
   "execution_count": 18,
   "metadata": {},
   "outputs": [
    {
     "name": "stdout",
     "output_type": "stream",
     "text": [
      "Input data dimensions:  (1691, 75)\n",
      "Output data dimensions:  (1691, 1)\n",
      "Coordinates data dimensions:  (1691, 2)\n"
     ]
    }
   ],
   "source": [
    "# In this cell, read the files input.csv, output.csv and coordinates.csv.\n",
    "# Print out the dataset dimesions (i.e. number of rows and columns).\n",
    "\n",
    "# Read input.csv\n",
    "input = pd.read_csv('data/input.csv', header=None) # This is our data of input features\n",
    "\n",
    "# Read output.csv\n",
    "output = pd.read_csv('data/output.csv', names=['WaterP']) # This is our data of target features\n",
    "\n",
    "# Read coordinates.csv\n",
    "coordinates = pd.read_csv('data/coordinates.csv', names=['X', 'Y']) # This is the data of geographical coordinates\n",
    "\n",
    "# We want to convert the coordinates from dataframe to numpy array.\n",
    "coordinates_matrix = coordinates[['X', 'Y']].to_numpy()\n",
    "\n",
    "# Print dimensions from all datasets\n",
    "print('Input data dimensions: ', input.shape)\n",
    "print('Output data dimensions: ', output.shape)\n",
    "print('Coordinates data dimensions: ', coordinates.shape)"
   ]
  },
  {
   "cell_type": "markdown",
   "metadata": {},
   "source": [
    "As we can see, all the measurements are well within the instructions we have given. There are 75 different features to use in the input data, one in the output and two in the coordinates. The number of rows is also the same for all datasets of 1691 rows."
   ]
  },
  {
   "cell_type": "markdown",
   "metadata": {},
   "source": [
    "### Standardization of the predictor features (input.csv)"
   ]
  },
  {
   "cell_type": "code",
   "execution_count": 19,
   "metadata": {},
   "outputs": [
    {
     "name": "stdout",
     "output_type": "stream",
     "text": [
      "         0         1         2         3         4         5         6   \\\n",
      "0 -0.053196 -0.219296  0.210020  0.704425  0.339477  0.412638  0.331074   \n",
      "1 -0.632098 -0.682804 -0.285522 -0.369542 -0.138305  2.489725  2.051755   \n",
      "2 -0.674980 -0.597421 -0.568689 -0.983237 -0.828435 -0.496087 -0.451053   \n",
      "3 -0.331927 -0.154649  1.307292  0.090730  0.419107  1.061728  0.956776   \n",
      "4 -0.610657 -0.673046 -0.161636 -0.522966 -0.377196  0.672274  0.800351   \n",
      "\n",
      "         7         8         9   ...        65        66        67        68  \\\n",
      "0 -0.034411 -0.184481  0.307345  ...  0.219541  0.539119 -0.645254 -0.519918   \n",
      "1 -0.034411 -0.246906 -0.226797  ...  0.219541 -0.169259 -0.645254  2.475438   \n",
      "2 -0.034411 -0.324938 -0.627405  ... -1.047724 -0.877636 -0.645254 -0.519918   \n",
      "3 -0.034411 -0.301529 -0.360333  ... -1.047724 -0.877636 -0.645254 -0.519918   \n",
      "4 -0.034411 -0.363954 -0.961244  ... -1.047724 -0.877636  2.098494  0.977760   \n",
      "\n",
      "         69        70        71        72        73        74  \n",
      "0 -0.447089  0.554097  0.087285 -0.109193 -0.913639 -0.461479  \n",
      "1 -0.447089 -0.288927 -0.035919 -1.481978 -1.087664 -0.461479  \n",
      "2 -0.447089 -0.375320 -0.159124  0.349947  0.134707 -0.809315  \n",
      "3 -0.447089 -0.383278  0.703308  0.467238  0.107450 -0.832933  \n",
      "4  1.960643 -0.296657  0.087285 -0.333328 -0.636876 -0.542584  \n",
      "\n",
      "[5 rows x 75 columns]\n"
     ]
    }
   ],
   "source": [
    "# Standardize the predictor features (input.csv) by removing the mean and scaling to unit variance. \n",
    "# In other words, z-score the predictor features. You are allowed to use third-party libraries for doing this.\n",
    "\n",
    "# Z-score standardization\n",
    "# StandardScaler() standardizes features by removing the mean and scaling to unit variance.\n",
    "# Function works as following: z = (x - u) / s,\n",
    "# where x is the feature, u is the mean of the feature, and s is the standard deviation of the feature.\n",
    "scaler = StandardScaler()\n",
    "\n",
    "# Fit the scaler to the input data\n",
    "input = scaler.fit_transform(input)\n",
    "\n",
    "# Because scaler returns a numpy array, I convert it back to a pandas dataframe.\n",
    "input = pd.DataFrame(input)\n",
    "\n",
    "# I print the first 5 rows to check if the standardization was successful.\n",
    "print(input.head())"
   ]
  },
  {
   "cell_type": "markdown",
   "metadata": {},
   "source": [
    "### Functions and analysis code"
   ]
  },
  {
   "cell_type": "code",
   "execution_count": 20,
   "metadata": {},
   "outputs": [],
   "source": [
    "# Include here all the functions and other relevant code that you need in order to implement the task.\n",
    "\n",
    "# Here we want to implement the k-NN regression model.\n",
    "def knn_regression(X_train, Y_train, X_test, k):\n",
    "    model = KNeighborsRegressor(n_neighbors=k, metric='euclidean') # We want to use the euclidean distance as the metric\n",
    "    model.fit(X_train, Y_train)\n",
    "    Y_pred = model.predict(X_test)\n",
    "    Y_pred = pd.DataFrame(Y_pred, columns=Y_train.columns)\n",
    "    return Y_pred\n",
    "\n",
    "# Create a function for Spatial-One-Leave-Out Cross-Validation (SLOOCV)\n",
    "def sloocv(X, Y, coordinates_matrix, d, k=7):\n",
    "    # Define the number of samples in the dataset.\n",
    "    n_samples = X.shape[0]\n",
    "\n",
    "    # Create an array where to store the predictions\n",
    "    predictions = np.zeros(n_samples)\n",
    "\n",
    "    # Create distance matrix by using the cdists functon\n",
    "    distances = cdists(coordinates_matrix)\n",
    "\n",
    "    # Iterate over all samples\n",
    "    for i in range(n_samples):\n",
    "        # Sort the distances\n",
    "        sorted_indices = np.argsort(distances[i])\n",
    "        # Create a mask, where we exclude the test sample and all samples closer than distance we have defined.\n",
    "        train_mask = (distances[i] > d) & (sorted_indices != i)\n",
    "        # Get all the indices we want to use for training\n",
    "        train_indices = np.where(train_mask)[0]\n",
    "\n",
    "        # If there are no samples to train, we predict NaN\n",
    "        if len(train_indices) == 0:\n",
    "            predictions[i] = np.nan\n",
    "            continue\n",
    "        # If there are less than k samples to train, we use all of them\n",
    "        elif len(train_indices) < k:\n",
    "            k_current = len(train_indices)\n",
    "        # Otherwise we use the k we have defined\n",
    "        else:\n",
    "            k_current = k\n",
    "        \n",
    "        # Split the data into training and test sets\n",
    "        X_train = X.iloc[train_indices]\n",
    "        Y_train = Y.iloc[train_indices]\n",
    "        X_test = X.iloc[[i]]\n",
    "\n",
    "        # Perform k-NN regression for the current iteration\n",
    "        Y_pred = knn_regression(X_train, Y_train, X_test, k_current)\n",
    "\n",
    "        # Store the predicted value for predictions array.\n",
    "        predictions[i] = Y_pred.values[0][0]\n",
    "\n",
    "        # Progress print\n",
    "        print(f'Predicting: {i+1}/{n_samples}, Distance: {d}', end='\\r')\n",
    "\n",
    "    # Evaluate the performance of the model by using c-index function\n",
    "    c_index = cindex(Y.values.flatten(), predictions)\n",
    "\n",
    "    return c_index\n",
    "\n",
    "# Note! Utilize the following two functions in your implementation:\n",
    "\n",
    "### Function for calculating C-index ###\n",
    "# y: array containing true label values.\n",
    "# yp: array containing the predicted label values.\n",
    "def cindex(y, yp):\n",
    "    n = 0\n",
    "    h_num = 0 \n",
    "    for i in range(0, len(y)):\n",
    "        t = y[i]\n",
    "        p = yp[i]\n",
    "        for j in range(i+1, len(y)):\n",
    "            nt = y[j]\n",
    "            np = yp[j]\n",
    "            if (t != nt): \n",
    "                n = n + 1\n",
    "                if (p < np and t < nt) or (p > np and t > nt): \n",
    "                    h_num += 1\n",
    "                elif (p == np):\n",
    "                    h_num += 0.5\n",
    "    return h_num/n\n",
    "\n",
    "\n",
    "### Function for calculating the pairwise spatial distances between the data points ###\n",
    "# The function will return a n-by-n matrix of Euclidean distances. For example, the\n",
    "# distance_matrix element at indices i,j will contain the spatial distance between \n",
    "# data point i and j. Note that the element value is 0 always when i==j.\n",
    "# coordinate_array: n-by-2 array containing the coordinates of the exercise data points.\n",
    "def cdists(coordinate_array):\n",
    "    number_of_observations = coordinate_array.shape[0]\n",
    "    distance_matrix = np.zeros((number_of_observations, number_of_observations))\n",
    "    for i in range(0, number_of_observations):\n",
    "        distance_matrix[i, :] = np.sqrt(np.sum((coordinate_array - coordinate_array[i])**2, axis=1))\n",
    "    return distance_matrix"
   ]
  },
  {
   "cell_type": "markdown",
   "metadata": {},
   "source": [
    "### Results for spatial leave-one-out cross-validation with 7-nearest neighbor regression model"
   ]
  },
  {
   "cell_type": "code",
   "execution_count": 21,
   "metadata": {},
   "outputs": [
    {
     "name": "stdout",
     "output_type": "stream",
     "text": [
      "C-index for distance 0 meters: 0.7141376732570006\n",
      "C-index for distance 20 meters: 0.7053434061895849\n",
      "C-index for distance 40 meters: 0.6999306342035673\n",
      "C-index for distance 60 meters: 0.6911426667543947\n",
      "C-index for distance 80 meters: 0.6839180545658933\n",
      "C-index for distance 100 meters: 0.6802730254546574\n",
      "C-index for distance 120 meters: 0.614635553085483\n",
      "C-index for distance 140 meters: 0.5982509459926728\n",
      "C-index for distance 160 meters: 0.5944088788219434\n",
      "C-index for distance 180 meters: 0.5926344863501272\n",
      "C-index for distance 200 meters: 0.5892956886812659\n",
      "C-index for distance 220 meters: 0.5871723673545383\n",
      "C-index for distance 240 meters: 0.5856023624968327\n",
      "C-index for distance 260 meters: 0.5858095499412735\n",
      "C-index for distance 280 meters: 0.585670258382342\n",
      "C-index for distance 300 meters: 0.5849286533236085\n"
     ]
    }
   ],
   "source": [
    "# In this cell, run your script for the Spatial leave-One-Out cross-validation \n",
    "# with 7-nearest neighbor regression model and visualize the results as \n",
    "# requested in the task assignment.\n",
    "\n",
    "# Create an empty list to store the c-indices\n",
    "c_indices = []\n",
    "\n",
    "# We want to perform the SOOCV for all distances from 0 to 300 meters with a step of 20 meters.\n",
    "for d in range(0, 301, 20):\n",
    "    c_index = sloocv(input, output, coordinates_matrix, d)\n",
    "    print(f'C-index for distance {d} meters: {c_index}')\n",
    "    c_indices.append(c_index)"
   ]
  },
  {
   "cell_type": "code",
   "execution_count": 22,
   "metadata": {},
   "outputs": [
    {
     "data": {
      "image/png": "[encoded data removed]",
      "text/plain": [
       "<Figure size 640x480 with 1 Axes>"
      ]
     },
     "metadata": {},
     "output_type": "display_data"
    }
   ],
   "source": [
    "# Plot the c-indices for different distances\n",
    "plt.plot(range(0, 301, 20), c_indices)\n",
    "# Add describing labels\n",
    "plt.xlabel('Distance (m)')\n",
    "plt.ylabel('C-index')\n",
    "plt.title('Spatial Leave-One-Out Cross-Validation')\n",
    "plt.grid()\n",
    "plt.show()"
   ]
  },
  {
   "cell_type": "markdown",
   "metadata": {},
   "source": [
    "## Analysis of the results"
   ]
  },
  {
   "cell_type": "markdown",
   "metadata": {},
   "source": [
    "### In this cell, you need to answer the client's questions:\n",
    "\n",
    "\n",
    "1. What happens to the 7NN performance as the prediction distance increases?\n",
    "\n",
    "\n",
    "2. Do you think the results behave as was somewhat expected? Do they make sense, why?\n",
    "\n",
    "\n",
    "3. If we require that the 7NN must have at least C-index performance of 0.68, then up to what distance should we trust the 7NN predictions, based on the results?\n",
    "\n",
    "\n",
    "____"
   ]
  },
  {
   "cell_type": "markdown",
   "metadata": {},
   "source": [
    "1. As can be seen from the plot between c-index and distance, the performance of the model decreases while the distance increases. At smaller distances, such as 0-40 meters, the c-index remains above 0.7, indicating decent prediction accuracy. The decrease in performance is due to the fact that as distances increase, the spatial similarity between training and test points decreases.\n",
    "\n",
    "2. Yes, I think these results behave as expected. The performance of the model decreases as the distance between predictions increases because it relies on nearby points to make accurate predictions. On the other hand, when we use points farther away instead of closer points, the spatial relationship weakens, making it more difficult for the model to accurately predict the target values.\n",
    "\n",
    "3. If we look at the values of the outputs, we can see that with a C-index performance of 0.68, we can use a distance value of 100 to make reliable predictions. Although we want the accuracy of the predictions to be high, we still want to use the maximum value of the distance to find more informative predictions from points further away. If the distance value exceeds 100 meters, the performance of our model starts to drop really fast, making it more unreliable. In short, we want to choose the maximum distance before the \"elbow\" in the plot."
   ]
  }
 ],
 "metadata": {
  "kernelspec": {
   "display_name": "Python 3",
   "language": "python",
   "name": "python3"
  },
  "language_info": {
   "codemirror_mode": {
    "name": "ipython",
    "version": 3
   },
   "file_extension": ".py",
   "mimetype": "text/x-python",
   "name": "python",
   "nbconvert_exporter": "python",
   "pygments_lexer": "ipython3",
   "version": "3.12.6"
  },
  "toc": {
   "base_numbering": 1,
   "nav_menu": {},
   "number_sections": false,
   "sideBar": true,
   "skip_h1_title": false,
   "title_cell": "Table of Contents",
   "title_sidebar": "Contents",
   "toc_cell": false,
   "toc_position": {},
   "toc_section_display": true,
   "toc_window_display": true
  },
  "varInspector": {
   "cols": {
    "lenName": 16,
    "lenType": 16,
    "lenVar": 40
   },
   "kernels_config": {
    "python": {
     "delete_cmd_postfix": "",
     "delete_cmd_prefix": "del ",
     "library": "var_list.py",
     "varRefreshCmd": "print(var_dic_list())"
    },
    "r": {
     "delete_cmd_postfix": ") ",
     "delete_cmd_prefix": "rm(",
     "library": "var_list.r",
     "varRefreshCmd": "cat(var_dic_list()) "
    }
   },
   "types_to_exclude": [
    "module",
    "function",
    "builtin_function_or_method",
    "instance",
    "_Feature"
   ],
   "window_display": false
  }
 },
 "nbformat": 4,
 "nbformat_minor": 4
}
